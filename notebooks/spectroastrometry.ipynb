{
 "cells": [
  {
   "cell_type": "markdown",
   "id": "8a23807d-633f-4146-99a1-f90b44501489",
   "metadata": {},
   "source": [
    "### calculate the SA signal for a given slit PA\n",
    "### based on https://learn.astropy.org/tutorials/PVDiagramPlotting.html"
   ]
  },
  {
   "cell_type": "code",
   "execution_count": null,
   "id": "076fd0e9-e1e5-47f2-878b-cec7b2332a22",
   "metadata": {},
   "outputs": [],
   "source": [
    "import sys\n",
    "import numpy as np\n",
    "import matplotlib.pyplot as plt\n",
    "from astropy.visualization import quantity_support\n",
    "from astropy import units as u\n",
    "from astropy import wcs\n",
    "from astropy.io import fits  \n",
    "\n",
    "from spectral_cube import SpectralCube\n",
    "from pvextractor import extract_pv_slice, Path\n",
    "from astropy.visualization import (AsinhStretch, LogStretch, ImageNormalize)\n",
    "\n",
    "%matplotlib inline"
   ]
  },
  {
   "cell_type": "code",
   "execution_count": null,
   "id": "07f4f947-2da7-4cd8-881d-f82f0c234ebf",
   "metadata": {},
   "outputs": [],
   "source": [
    "# slit position angle in degrees, E of N\n",
    "slitPA = 60\n",
    "\n",
    "# slit width\n",
    "slit_width = 0.1*u.arcsec"
   ]
  },
  {
   "cell_type": "code",
   "execution_count": null,
   "id": "7b05b254-a6a0-462b-b57b-7d1cc77047f9",
   "metadata": {},
   "outputs": [],
   "source": [
    "if slitPA < 0 or slitPA > 360:\n",
    "    print('slitPA must be between 0 and 360')\n",
    "    sys.exit()"
   ]
  },
  {
   "cell_type": "code",
   "execution_count": null,
   "id": "8953e530-cd35-4696-93ac-839638b16bf7",
   "metadata": {},
   "outputs": [],
   "source": [
    "path = \"./radlite/\"\n",
    "filename = \"radlite_image.fits\"\n",
    "\n",
    "f = fits.open(path+filename)\n",
    "continuum = f[1].data\n",
    "line = f[2].data\n",
    "hd = f[2].header\n",
    "wave = hd['WAVELEN']    # microns"
   ]
  },
  {
   "cell_type": "code",
   "execution_count": null,
   "id": "7d30bf08",
   "metadata": {},
   "outputs": [],
   "source": [
    "# fill in the hole in the continuum image since this otherwise messes up the slit image and spectroastrometry\n",
    "# (effectively a star and/or convolution by the PSF would do this in practice)\n",
    "# just do this by making the central region constant; adjust the area manually\n",
    "icen = int(hd['CRPIX1'])\n",
    "jcen = int(hd['CRPIX2'])\n",
    "ifill = 2\n",
    "jfill = 2\n",
    "median_continuum = np.nanmedian(continuum[jcen-jfill:jcen+jfill, icen-ifill:icen+ifill])\n",
    "for i in range(icen-ifill, icen+ifill+1):\n",
    "    for j in range(jcen-jfill, jcen+jfill+1):\n",
    "        continuum[j, i] = median_continuum"
   ]
  },
  {
   "cell_type": "code",
   "execution_count": null,
   "id": "0fbf1b96",
   "metadata": {},
   "outputs": [],
   "source": [
    "cube = SpectralCube(data=line+continuum, wcs=wcs.WCS(hd)) \n",
    "flux = cube.moment0().value\n",
    "norm = ImageNormalize(vmin=0, vmax=flux.max(), stretch=LogStretch())"
   ]
  },
  {
   "cell_type": "code",
   "execution_count": null,
   "id": "93b05c54-9c80-4b0f-a504-8f1cf0ab16f1",
   "metadata": {},
   "outputs": [],
   "source": [
    "# define path and direction starting from north\n",
    "nx = cube.header['NAXIS1']\n",
    "ny = cube.header['NAXIS2']\n",
    "i0 = cube.header['CRPIX1']\n",
    "j0 = cube.header['CRPIX2']\n",
    "\n",
    "reverse = False\n",
    "if slitPA >= 180:\n",
    "    slitPA -= 180\n",
    "    reverse = True\n",
    "\n",
    "if np.abs(slitPA-90) < 1:\n",
    "    path_start = (0, j0)\n",
    "    path_end = (nx-1, j0)\n",
    "elif (slitPA <= 45) or (slitPA >= 135):\n",
    "    t = np.tan(np.radians(slitPA))\n",
    "    path_start = (i0-(ny-1-j0)*t, ny-1)\n",
    "    path_end = (i0+j0*t, 0)\n",
    "else:\n",
    "    t = np.tan(np.radians(slitPA))\n",
    "    path_start = (0, j0+i0/t)\n",
    "    path_end = (nx-1, j0-(nx-1-i0)/t)\n",
    "\n",
    "if reverse:\n",
    "    path_start, path_end = path_end, path_start\n",
    "    \n",
    "path = Path([path_start, path_end], width=slit_width)"
   ]
  },
  {
   "cell_type": "code",
   "execution_count": null,
   "id": "724229ef-88f2-4b56-a297-081f746cc27e",
   "metadata": {},
   "outputs": [],
   "source": [
    "# show moment 0 image and slit path\n",
    "ax = plt.subplot(111, projection=cube.wcs.celestial)\n",
    "ax.imshow(flux, norm=norm, origin='lower')\n",
    "\n",
    "path.show_on_axis(ax, spacing=3, color='r', alpha=0.1)\n",
    "ax.arrow(path_start[0], path_start[1], \\\n",
    "         path_end[0]-path_start[0], path_end[1]-path_start[1], \\\n",
    "         color='w', length_includes_head=True, width=1, alpha=0.5)\n",
    "\n",
    "ax0 = ax.coords[0]\n",
    "ax0.set_format_unit(u.arcsec)\n",
    "ax1 = ax.coords[1]\n",
    "ax1.set_format_unit(u.arcsec)\n",
    "\n",
    "ax.set_xlabel(r\"$\\Delta\\alpha$ [arcsec]\")\n",
    "ax.set_ylabel(r\"$\\Delta\\delta$ [arcsec]\")"
   ]
  },
  {
   "cell_type": "code",
   "execution_count": null,
   "id": "82a05a90-6e78-4de4-ac00-9b04b15fe6e4",
   "metadata": {},
   "outputs": [],
   "source": [
    "pv = extract_pv_slice(cube=cube, path=path, spacing=1)\n",
    "ns = pv.header['NAXIS1']\n",
    "nv = pv.header['NAXIS2']\n",
    "is0 = pv.header['CRPIX1']\n",
    "iv0 = pv.header['CRPIX2']\n",
    "ds = pv.header['CDELT1'] * 3.6e6    # milli-arcsec\n",
    "dv = pv.header['CDELT2'] / 1000     # km/s\n",
    "s0 = pv.header['CRVAL1'] * 3.6e6\n",
    "v0 = pv.header['CRVAL2'] / 1000\n",
    "s = (np.arange(ns) - ns/2 + 0.5) * ds   # make this zero at the center\n",
    "v = v0 + (np.arange(nv) - iv0) * dv"
   ]
  },
  {
   "cell_type": "code",
   "execution_count": null,
   "id": "d8d85d53-2627-4402-b608-69218a063bf8",
   "metadata": {},
   "outputs": [],
   "source": [
    "SA_image = pv.data.T\n",
    "\n",
    "im_bounds = [v.min(), v.max(), s.min(), s.max()]\n",
    "v_lims = [v.min(), v.max()]\n",
    "slit_lims = [s.min(), s.max()]\n",
    "\n",
    "norm = ImageNormalize(vmin=0, vmax=SA_image.max(), stretch=LogStretch())\n",
    "\n",
    "fig, ax = plt.subplots(figsize=(10, 8))\n",
    "p = ax.imshow(SA_image, origin='lower', cmap='viridis', norm=norm, extent=im_bounds, aspect='auto')\n",
    "\n",
    "ax.set_ylim(slit_lims)\n",
    "ax.set_xlim(v_lims)\n",
    "ax.set_ylabel('Slit offset [milli-arcsec]')\n",
    "ax.set_xlabel('Velocity [km/s]')\n",
    "cb = plt.colorbar(p, ax=ax, pad=0.05)\n",
    "cb.set_label(r'Intensity [Jy / pix]', rotation=90, labelpad=17)\n",
    "plt.subplots_adjust(left=0.13, right=0.93, bottom=0.13, top=0.98)"
   ]
  },
  {
   "cell_type": "code",
   "execution_count": null,
   "id": "fbb2b075-9c8e-4d8c-aadf-cddcd6d3072f",
   "metadata": {},
   "outputs": [],
   "source": [
    "# calculate the mean slit position (and std) at each velocity = spectroastrometric signal\n",
    "SA = np.zeros(nv)\n",
    "SA_err = np.zeros(nv)\n",
    "for i in range(nv):\n",
    "    # is the velocity vector increating or decreasing with index?\n",
    "    if v[1]-v[0] > 0:\n",
    "        Iv = SA_image[:, i]\n",
    "    else:\n",
    "        Iv = SA_image[:, nv-1-i]\n",
    "    Ivsum = np.nansum(Iv)\n",
    "    mu = np.nansum(s * Iv) / Ivsum\n",
    "    SA[i] = mu\n",
    "    SA_err[i] = np.sqrt((np.nansum(s**2 * Iv) / Ivsum) - mu**2)"
   ]
  },
  {
   "cell_type": "code",
   "execution_count": null,
   "id": "0cf71896-1933-4a64-9cdc-ef5015d9b2c2",
   "metadata": {},
   "outputs": [],
   "source": [
    "fig, ax = plt.subplots(figsize=(10, 8))\n",
    "#ax.step(v, SA)\n",
    "\n",
    "ax.plot(v, SA, lw=3)\n",
    "plt.fill_between(v, SA-SA_err, SA+SA_err, alpha=0.3)\n",
    "\n",
    "ax.set_xlim(v_lims)\n",
    "ax.set_xlabel('Velocity [km/s]')\n",
    "ax.set_ylabel('Slit offset [milli-arcsec]')\n"
   ]
  },
  {
   "cell_type": "code",
   "execution_count": null,
   "id": "90297c1c-feb4-45a5-9911-2040df102270",
   "metadata": {},
   "outputs": [],
   "source": []
  }
 ],
 "metadata": {
  "kernelspec": {
   "display_name": "Python 3 (ipykernel)",
   "language": "python",
   "name": "python3"
  },
  "language_info": {
   "codemirror_mode": {
    "name": "ipython",
    "version": 3
   },
   "file_extension": ".py",
   "mimetype": "text/x-python",
   "name": "python",
   "nbconvert_exporter": "python",
   "pygments_lexer": "ipython3",
   "version": "3.9.13"
  }
 },
 "nbformat": 4,
 "nbformat_minor": 5
}
