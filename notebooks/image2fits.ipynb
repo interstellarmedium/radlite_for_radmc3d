{
 "cells": [
  {
   "cell_type": "markdown",
   "metadata": {},
   "source": [
    "### write out radlite image as a fitsfile\n",
    "#### https://docs.astropy.org/en/stable/io/fits/\n",
    "#### Note that, like C (and unlike Fortran), Python is 0-indexed and the indices have the slowest axis first and fastest changing axis last; that is, for a 2D image, the fast axis (X-axis) which corresponds to the FITS NAXIS1 keyword, is the second index."
   ]
  },
  {
   "cell_type": "code",
   "execution_count": 20,
   "metadata": {},
   "outputs": [],
   "source": [
    "import numpy as np\n",
    "import astropy.constants as c\n",
    "from astropy.io import fits\n",
    "%matplotlib widget"
   ]
  },
  {
   "cell_type": "code",
   "execution_count": 21,
   "metadata": {},
   "outputs": [],
   "source": [
    "# load the image\n",
    "# see RADLITE/telescope.F for the format aubroutine calc_write_line_posvel\n",
    "# note units are brightness temperature = lambda**2 * F_nu / 2*k\n",
    "path = \"./radlite/rundir_image/outputdir/\"\n",
    "filename = \"lineposvel_moldata_0_1.dat\"\n",
    "\n",
    "# distance of the source in pc\n",
    "dist = 140.0\n",
    "\n",
    "with open(path+filename) as f:\n",
    "    try:\n",
    "        blank = f.readline()\n",
    "        iformat = f.readline()\n",
    "        molname1 = f.readline()\n",
    "        molname2 = f.readline()\n",
    "        dist0, v0, incl = [float(abc) for abc in f.readline().split()]\n",
    "        trans = f.readline()\n",
    "        nu0 = float(f.readline())\n",
    "        nv = int(f.readline())\n",
    "        nx, ny, dx, dy, rotang, xoff, yoff = [float(abc) for abc in f.readline().split()]\n",
    "    except:\n",
    "        print(\"Error reading header\")\n",
    "        exit()\n",
    "        \n",
    "    nx = int(nx)\n",
    "    ny = int(ny)\n",
    "    x = xoff + (np.arange(nx) - nx/2 + 0.5) * dx\n",
    "    y = yoff + (np.arange(ny) - ny/2 + 0.5) * dy\n",
    "        \n",
    "    blank = f.readline()\n",
    "        \n",
    "    v = np.empty(nv)\n",
    "    for k in range(nv):\n",
    "        v[k] = float(f.readline())\n",
    "    dv = v[1] - v[0]\n",
    "    \n",
    "    Tb = np.empty((nv, ny, nx))\n",
    "    tau = np.empty((nv, ny, nx))\n",
    "    for iv in range(nv):\n",
    "        blank = f.readline()\n",
    "        for iy in range(ny):\n",
    "            for ix in range(nx):\n",
    "                Tb1, tau1 = [float(ab) for ab in f.readline().split()]\n",
    "                Tb[iv, ix, iy] = Tb1\n",
    "                tau[iv, ix, iy] = tau1\n",
    "\n",
    "# convert to flux in Jy at 1pc\n",
    "Inu = 1e23 * (2*c.k_B.cgs.value/c.c.cgs.value**2) * nu0**2 * Tb\n",
    "Fnu = Inu * np.abs(dx*dy)/c.pc.cgs.value**2\n",
    "\n",
    "# convert step size to au as in model.json\n",
    "dx /= c.au.cgs.value\n",
    "dy /= c.au.cgs.value\n",
    "\n",
    "# convert flux to Jy and step size to degrees at source distance\n",
    "# note that 1au at 1pc is 1 arcsecond\n",
    "Fnu /= dist**2\n",
    "dx /= (3600*dist)\n",
    "dy /= (3600*dist)"
   ]
  },
  {
   "cell_type": "code",
   "execution_count": 22,
   "metadata": {},
   "outputs": [],
   "source": [
    "# separate line from continuum\n",
    "#(linearly interpolate across endpoints as for spectra in radlite)\n",
    "\n",
    "# I prefer to order my arrays differently from the fortran code\n",
    "nv, nx, ny = Fnu.shape\n",
    "line = np.zeros((nx, ny, nv))\n",
    "continuum = np.zeros((nx, ny))\n",
    "\n",
    "iv = np.arange(nv)\n",
    "for iy in range(ny):\n",
    "    for ix in range(nx):\n",
    "        f0 = Fnu[0, ix, iy]\n",
    "        f1 = Fnu[-1, ix, iy]\n",
    "        #tempys = [Fnu[0, ix, iy], Fnu[-1, ix, iy]]\n",
    "        #interpolate_spec = interp1d([0,nv-1], tempys)\n",
    "        #continuum[ix, iy] = interpolate_spec(nv/2)\n",
    "        continuum[ix, iy] = (f0+f1)/2\n",
    "        for iv in range(nv):\n",
    "            #line[ix, iy, iv] = Fnu[iv, ix, iy] - interpolate_spec(iv)\n",
    "            line[ix, iy, iv] = Fnu[iv, ix, iy] - (f0 + (f1-f0)*iv/nv)"
   ]
  },
  {
   "cell_type": "code",
   "execution_count": 23,
   "metadata": {},
   "outputs": [],
   "source": [
    "hdr = fits.Header()\n",
    "hdr['COMMENT'] = 'radlite image'\n",
    "hdr['COMMENT'] = 'continuum image is first extension'\n",
    "hdr['COMMENT'] = 'line datacube is second extension'\n",
    "hdr['COMMENT'] = 'created by image2fits notebook in radlite_for_radmc3d'\n",
    "\n",
    "hdu0 = fits.PrimaryHDU(header=hdr)"
   ]
  },
  {
   "cell_type": "code",
   "execution_count": 24,
   "metadata": {},
   "outputs": [],
   "source": [
    "hdu1 = fits.ImageHDU(continuum.T)\n",
    "hd1 = hdu1.header\n",
    "hd1.set('OBJECT', filename, 'continuum')\n",
    "hd1.set('CRPIX1', nx/2-0.5, 'image center')\n",
    "hd1.set('CRPIX2', ny/2-0.5, 'image center')\n",
    "hd1.set('CDELT1', dx, 'degrees')\n",
    "hd1.set('CDELT2', dy, 'degrees')\n",
    "hd1.set('CRVAL1', 0.0, 'degrees')\n",
    "hd1.set('CRVAL2', 0.0, 'degrees')\n",
    "hd1.set('CTYPE1', 'RA---SIN')\n",
    "hd1.set('CTYPE2', 'DEC--SIN')\n",
    "hd1.set('CUNIT1', 'deg')\n",
    "hd1.set('CUNIT2', 'deg')\n",
    "hd1.set('BUNIT', 'Jy/pix')\n",
    "hd1.set('RESTFRQ', nu0, 'line frequency in Hz')\n",
    "hd1.set('WAVELEN', 1e6*c.c.si.value/nu0, 'wavelength in microns')"
   ]
  },
  {
   "cell_type": "code",
   "execution_count": 25,
   "metadata": {},
   "outputs": [],
   "source": [
    "hdu2 = fits.ImageHDU(line.T)\n",
    "hd2 = hdu2.header\n",
    "hd2.set('OBJECT', filename, 'line')\n",
    "hd2.set('CRPIX1', nx/2-0.5, 'image center')\n",
    "hd2.set('CRPIX2', ny/2-0.5, 'image center')\n",
    "hd2.set('CRPIX3', nv/2-0.5, 'center of velocity axis')\n",
    "hd2.set('CDELT1', dx, 'degrees')\n",
    "hd2.set('CDELT2', dy, 'degrees')\n",
    "hd2.set('CDELT3', dv, 'step size in km/s')\n",
    "hd2.set('CRVAL1', 0.0, 'degrees')\n",
    "hd2.set('CRVAL2', 0.0, 'degrees')\n",
    "hd2.set('CRVAL3', v0, 'central velocity in km/s')\n",
    "hd2.set('CTYPE1', 'RA---SIN')\n",
    "hd2.set('CTYPE2', 'DEC--SIN')\n",
    "hd2.set('CTYPE3', 'VELO-LSRK')\n",
    "hd2.set('CUNIT1', 'deg')\n",
    "hd2.set('CUNIT2', 'deg')\n",
    "hd2.set('CUNIT3', 'km/s')\n",
    "hd2.set('BUNIT', 'Jy/pix')\n",
    "hd2.set('RESTFRQ', nu0, 'line frequency in Hz')\n",
    "hd2.set('WAVELEN', 1e6*c.c.si.value/nu0, 'wavelength in microns')"
   ]
  },
  {
   "cell_type": "code",
   "execution_count": null,
   "metadata": {},
   "outputs": [],
   "source": [
    "hdu_list = fits.HDUList([hdu0, hdu1, hdu2])\n",
    "hdu_list.writeto('radlite_image.fits', overwrite=True)"
   ]
  }
 ],
 "metadata": {
  "kernelspec": {
   "display_name": "Python 3 (ipykernel)",
   "language": "python",
   "name": "python3"
  },
  "language_info": {
   "codemirror_mode": {
    "name": "ipython",
    "version": 3
   },
   "file_extension": ".py",
   "mimetype": "text/x-python",
   "name": "python",
   "nbconvert_exporter": "python",
   "pygments_lexer": "ipython3",
   "version": "3.9.13"
  }
 },
 "nbformat": 4,
 "nbformat_minor": 4
}
