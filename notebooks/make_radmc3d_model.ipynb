{
 "cells": [
  {
   "cell_type": "markdown",
   "id": "b81d3cbb-29d1-44e4-ae43-d2115cc80900",
   "metadata": {},
   "source": [
    "### create a model to run through radlite"
   ]
  },
  {
   "cell_type": "code",
   "execution_count": 1,
   "id": "be319c2d-9efb-484b-9e06-fadec24b287c",
   "metadata": {},
   "outputs": [],
   "source": [
    "import os\n",
    "import numpy as np\n",
    "import matplotlib.pyplot as plt\n",
    "from radmc3dPy import *\n",
    "%matplotlib inline"
   ]
  },
  {
   "cell_type": "code",
   "execution_count": 13,
   "id": "0387ee3f-972b-4047-8072-5a9b640dd99b",
   "metadata": {},
   "outputs": [],
   "source": [
    "# model parameters\n",
    "mstar = ['1.0*ms']        # stellar mass\n",
    "tstar = [4000.0]          # Teff (K)\n",
    "rstar = ['2.0*rs']        # stellar radius\n",
    "\n",
    "mdisk = '1e-4*ms'         # dust disk mass\n",
    "dusttogas = 0.01          # dust to gas ratio\n",
    "rin = '0.05*au'           # inner disk radius\n",
    "rdisk = '100*au'          # outer disk radius\n",
    "gap_rin='[0.1*au]'        # gap inner radius\n",
    "gap_rout='[40*au]'        # gap outer radius"
   ]
  },
  {
   "cell_type": "code",
   "execution_count": 14,
   "id": "3b20863f-f27e-48f9-8aa4-6844e62d55ee",
   "metadata": {},
   "outputs": [
    {
     "name": "stdout",
     "output_type": "stream",
     "text": [
      "Writing problem_params.inp\n",
      "Writing problem_params.inp\n",
      "Writing dustopac.inp\n",
      "Writing wavelength_micron.inp\n",
      "Writing amr_grid.inp\n",
      "Writing stars.inp\n",
      "-------------------------------------------------------------\n",
      "Luminosities of radiation sources in the model :\n",
      "Reading wavelength_micron.inp\n",
      "As calculated from the input files :\n",
      "Stars : \n",
      "  Star #0 + hotspot        : 3.564346e+33\n",
      "Continuous starlike source : 0.000000e+00\n",
      " \n",
      "-------------------------------------------------------------\n",
      "Writing dust_density.inp\n",
      "Writing radmc3d.inp\n"
     ]
    }
   ],
   "source": [
    "# set up the model and write out new style files for radmc\n",
    "# note you need to have dustkappa_silicate.inp in this directory\n",
    "analyze.writeDefaultParfile('ppdisk')\n",
    "model_new = setup.problemSetupDust(model='ppdisk', mstar=mstar, rstar=rstar, tstar=tstar,\n",
    "                                   mdisk=mdisk, dusttogas=dusttogas,\n",
    "                                   rin=rin, rdisk=rdisk,\n",
    "                                   gap_rin=gap_rin, gap_rout=gap_rout, gap_drfact='[1e-5]',\n",
    "                                   nz='0', binary=False)"
   ]
  },
  {
   "cell_type": "code",
   "execution_count": 4,
   "id": "a6d2f680-68d9-4554-9964-44730a46606c",
   "metadata": {},
   "outputs": [
    {
     "name": "stdout",
     "output_type": "stream",
     "text": [
      "  \n",
      " ================================================================\n",
      "      WELCOME TO RADMC-3D: A 3-D CONTINUUM AND LINE RT SOLVER    \n",
      "                                                                 \n",
      "                          VERSION 2.0                            \n",
      "                                                                 \n",
      "                (c) 2008-2020 Cornelis Dullemond                 \n",
      "                                                                 \n",
      "       Please feel free to ask questions. Also please report     \n",
      "        bugs and/or suspicious behavior without hestitation.     \n",
      "      The reliability of this code depends on your vigilance!    \n",
      "                    dullemond@uni-heidelberg.de                  \n",
      "                                                                 \n",
      "   To keep up-to-date with bug-alarms and bugfixes, register to  \n",
      "                     the RADMC-3D forum:                         \n",
      "            http://radmc3d.ita.uni-heidelberg.de/phpbb/          \n",
      "                                                                 \n",
      "              Please visit the RADMC-3D home page at             \n",
      "  http://www.ita.uni-heidelberg.de/~dullemond/software/radmc-3d/ \n",
      " ================================================================\n",
      "  \n",
      " Number of processors:           12\n",
      " Number of threads in use:            1\n",
      " Note: T_gas taken to be equal to T_dust of dust species            1\n",
      " Reading global frequencies/wavelengths...\n",
      " Reading grid file and prepare grid tree...\n",
      "    Adjusting theta(ny+1) to exactly pi...\n",
      "    Adjusting theta(43) to exactly pi/2...\n",
      " Reading star data...\n",
      " Note: Please be aware that you treat the star(s) as\n",
      "       point source(s) while using spherical coordinate mode.\n",
      "       Since R_*<<R_in this is probably OK, but if you want\n",
      "       to play safe, then set istar_sphere = 1 in radmc3d.inp.\n",
      " Note: Star 1 is taken to be a blackbody star\n",
      "       at a temperature T = 4000. Kelvin\n",
      " Grid information (current status):\n",
      "   We have 7140 branches, of which 7140 are actual grid cells.\n",
      "   ---> 100.000% mem use for branches, and 100.000% mem use for actual cells.\n",
      "   No grid refinement is active. The AMR tree is not allocated (this saves memory).\n",
      " Reading the heat source spatial distribution...\n",
      " Beware: The OpenMP-parallel acceleration of RADMC-3D has \n",
      "         not yet been tested with all of the modes and\n",
      "         features that RADMC-3D offers. Please check \n",
      "         your parallel results against the serial version\n",
      "         (i.e. compiling without -fopenmp). \n",
      " Reading dust data...\n",
      " Reading dust densities...\n",
      " Dust mass total =    6.0360901681472163E-007  Msun\n",
      " Using dust scattering mode            1\n",
      " Computing emissivity database...\n",
      " Computing total input luminosities...\n",
      " Modified Random Walk mode is switched OFF\n",
      "  \n",
      " Starting the thermal Monte Carlo simulation....\n",
      " Thread Nr           0 of           1 threads in total\n",
      " Thread:           0 Photon nr:                 1000\n",
      " Thread:           0 Photon nr:                 2000\n",
      " Thread:           0 Photon nr:                 3000\n",
      " Thread:           0 Photon nr:                 4000\n",
      " Thread:           0 Photon nr:                 5000\n",
      " Thread:           0 Photon nr:                 6000\n",
      " Thread:           0 Photon nr:                 7000\n",
      " Thread:           0 Photon nr:                 8000\n",
      " Thread:           0 Photon nr:                 9000\n",
      " Thread:           0 Photon nr:                10000\n",
      " Thread:           0 Photon nr:                11000\n",
      " Thread:           0 Photon nr:                12000\n",
      " Thread:           0 Photon nr:                13000\n",
      " Thread:           0 Photon nr:                14000\n",
      " Thread:           0 Photon nr:                15000\n",
      " Thread:           0 Photon nr:                16000\n",
      " Thread:           0 Photon nr:                17000\n",
      " Thread:           0 Photon nr:                18000\n",
      " Thread:           0 Photon nr:                19000\n",
      " Thread:           0 Photon nr:                20000\n",
      " Thread:           0 Photon nr:                21000\n",
      " Thread:           0 Photon nr:                22000\n",
      " Thread:           0 Photon nr:                23000\n",
      " Thread:           0 Photon nr:                24000\n",
      " Thread:           0 Photon nr:                25000\n",
      " Thread:           0 Photon nr:                26000\n",
      " Thread:           0 Photon nr:                27000\n",
      " Thread:           0 Photon nr:                28000\n",
      " Thread:           0 Photon nr:                29000\n",
      " Thread:           0 Photon nr:                30000\n",
      " Thread:           0 Photon nr:                31000\n",
      " Thread:           0 Photon nr:                32000\n",
      " Thread:           0 Photon nr:                33000\n",
      " Thread:           0 Photon nr:                34000\n",
      " Thread:           0 Photon nr:                35000\n",
      " Thread:           0 Photon nr:                36000\n",
      " Thread:           0 Photon nr:                37000\n",
      " Thread:           0 Photon nr:                38000\n",
      " Thread:           0 Photon nr:                39000\n",
      " Thread:           0 Photon nr:                40000\n",
      " Thread:           0 Photon nr:                41000\n",
      " Thread:           0 Photon nr:                42000\n",
      " Thread:           0 Photon nr:                43000\n",
      " Thread:           0 Photon nr:                44000\n",
      " Thread:           0 Photon nr:                45000\n",
      " Thread:           0 Photon nr:                46000\n",
      " Thread:           0 Photon nr:                47000\n",
      " Thread:           0 Photon nr:                48000\n",
      " Thread:           0 Photon nr:                49000\n",
      " Thread:           0 Photon nr:                50000\n",
      " Thread:           0 Photon nr:                51000\n",
      " Thread:           0 Photon nr:                52000\n",
      " Thread:           0 Photon nr:                53000\n",
      " Thread:           0 Photon nr:                54000\n",
      " Thread:           0 Photon nr:                55000\n",
      " Thread:           0 Photon nr:                56000\n",
      " Thread:           0 Photon nr:                57000\n",
      " Thread:           0 Photon nr:                58000\n",
      " Thread:           0 Photon nr:                59000\n",
      " Thread:           0 Photon nr:                60000\n",
      " Thread:           0 Photon nr:                61000\n",
      " Thread:           0 Photon nr:                62000\n",
      " Thread:           0 Photon nr:                63000\n",
      " Thread:           0 Photon nr:                64000\n",
      " Thread:           0 Photon nr:                65000\n",
      " Thread:           0 Photon nr:                66000\n",
      " Thread:           0 Photon nr:                67000\n",
      " Thread:           0 Photon nr:                68000\n",
      " Thread:           0 Photon nr:                69000\n",
      " Thread:           0 Photon nr:                70000\n",
      " Thread:           0 Photon nr:                71000\n",
      " Thread:           0 Photon nr:                72000\n",
      " Thread:           0 Photon nr:                73000\n",
      " Thread:           0 Photon nr:                74000\n",
      " Thread:           0 Photon nr:                75000\n",
      " Thread:           0 Photon nr:                76000\n",
      " Thread:           0 Photon nr:                77000\n",
      " Thread:           0 Photon nr:                78000\n",
      " Thread:           0 Photon nr:                79000\n",
      " Thread:           0 Photon nr:                80000\n",
      " Thread:           0 Photon nr:                81000\n",
      " Thread:           0 Photon nr:                82000\n",
      " Thread:           0 Photon nr:                83000\n",
      " Thread:           0 Photon nr:                84000\n",
      " Thread:           0 Photon nr:                85000\n",
      " Thread:           0 Photon nr:                86000\n",
      " Thread:           0 Photon nr:                87000\n",
      " Thread:           0 Photon nr:                88000\n",
      " Thread:           0 Photon nr:                89000\n",
      " Thread:           0 Photon nr:                90000\n",
      " Thread:           0 Photon nr:                91000\n",
      " Thread:           0 Photon nr:                92000\n",
      " Thread:           0 Photon nr:                93000\n",
      " Thread:           0 Photon nr:                94000\n",
      " Thread:           0 Photon nr:                95000\n",
      " Thread:           0 Photon nr:                96000\n",
      " Thread:           0 Photon nr:                97000\n",
      " Thread:           0 Photon nr:                98000\n",
      " Thread:           0 Photon nr:                99000\n",
      " Thread:           0 Photon nr:               100000\n",
      " Elapsed time:   2.4940659999847412     \n",
      " Done with Bjorkman & Wood Monte Carlo simulation\n",
      " Using the parallel version of RADMC-3D\n",
      " Number of parallel threads used:            1\n",
      " Average number of abs/scat events per photon package =   0.24296999999999999     \n",
      " Average nr of times a photon stays in the same cell  =    3.1448868436084541E-002\n",
      " Maximum nr of times a photon stayed in the same cell =           10\n",
      " Saving results of thermal Monte Carlo\n",
      " Done...\n"
     ]
    },
    {
     "data": {
      "text/plain": [
       "0"
      ]
     },
     "execution_count": 4,
     "metadata": {},
     "output_type": "execute_result"
    }
   ],
   "source": [
    "os.system(\"radmc3d mctherm\")"
   ]
  },
  {
   "cell_type": "code",
   "execution_count": 5,
   "id": "e00c8fec-0854-430e-b074-fd6ff2e52022",
   "metadata": {},
   "outputs": [
    {
     "name": "stdout",
     "output_type": "stream",
     "text": [
      "Moving radmc files to output directory ./radmc_outputs\n",
      "Directory does not exist; will create\n"
     ]
    }
   ],
   "source": [
    "# make a directory for the radmc outputs for radlite to use\n",
    "outputdir = \"./radmc_outputs\"\n",
    "print(f\"Moving radmc files to output directory {outputdir}\")\n",
    "if os.path.exists(outputdir):\n",
    "    print(\"Will overwrite existing files\")\n",
    "else:\n",
    "    print(\"Directory does not exist; will create\")\n",
    "    os.makedirs(outputdir)"
   ]
  },
  {
   "cell_type": "code",
   "execution_count": 6,
   "id": "2a72ea03-c4d7-4c05-8b5e-717605f163e8",
   "metadata": {},
   "outputs": [
    {
     "name": "stdout",
     "output_type": "stream",
     "text": [
      "Reading amr_grid.inp\n",
      "Reading wavelength_micron.inp\n",
      "Reading dust_density.inp\n",
      "Reading dust_temperature.dat\n",
      "Writing dusttemp_final.dat\n",
      "Writing dusttemp.info\n"
     ]
    },
    {
     "data": {
      "text/plain": [
       "0"
      ]
     },
     "execution_count": 6,
     "metadata": {},
     "output_type": "execute_result"
    }
   ],
   "source": [
    "# translate temperature array to old radmc format\n",
    "data = analyze.readData(ddens=True, dtemp=True)\n",
    "Tdust = data.dusttemp[:,:,0,0]\n",
    "nr, nt = Tdust.shape\n",
    "fname = \"dusttemp_final.dat\"\n",
    "with open(fname, \"w\") as wfile:\n",
    "    print(\"Writing \" + fname)\n",
    "    wfile.write(f\"   1    {nr:d}   {nt//2:d}   1\\n\")\n",
    "    wfile.write(\" \\n\")\n",
    "    wfile.write(\"   1\\n\")\n",
    "    for i in range(nr):\n",
    "        for j in range(nt//2):\n",
    "            wfile.write(f\"{Tdust[i,j]:.7f}\\n\")\n",
    "os.system(\"mv \"+fname+\" radmc_outputs/\")\n",
    "            \n",
    "fname = \"dusttemp.info\"\n",
    "with open(fname, \"w\") as wfile:\n",
    "    print(\"Writing \" + fname)\n",
    "    wfile.write(\"  -2\\n\")\n",
    "    wfile.write(\"   1\\n\")\n",
    "    wfile.write(\"   1\\n\")\n",
    "    wfile.write(\"   1\\n\")\n",
    "    wfile.write(\"   1\\n\")\n",
    "os.system(\"mv \"+fname+\" radmc_outputs/\")"
   ]
  },
  {
   "cell_type": "code",
   "execution_count": 15,
   "id": "d4340ffb-c22d-4502-9ebe-3c94ce7dc1d7",
   "metadata": {},
   "outputs": [
    {
     "name": "stdout",
     "output_type": "stream",
     "text": [
      "Writing problem_params.inp\n",
      "Writing dustopac.inp\n",
      "Writing frequency.inp\n",
      "Reading dustkappa_silicate.inp\n",
      "Writing dustopac_1.inp\n",
      "Writing frequency.inp\n",
      "Writing radius.inp\n",
      "Writing theta.inp\n",
      "Writing starinfo.inp\n",
      "Writing starspectrum.inp\n"
     ]
    },
    {
     "data": {
      "text/plain": [
       "0"
      ]
     },
     "execution_count": 15,
     "metadata": {},
     "output_type": "execute_result"
    }
   ],
   "source": [
    "# write out the old format radmc files since radlite needs these\n",
    "# note that this overwrites the new format dustopac.inp so first save that and rename it back afterwards!\n",
    "os.system(\"mv dustopac.inp dustopac_newformat.inp\")\n",
    "\n",
    "model_old = setup.problemSetupDust(model='ppdisk', mstar=mstar, rstar=rstar, tstar=tstar,\n",
    "                                   mdisk=mdisk, dusttogas=dusttogas,\n",
    "                                   rin=rin, rdisk=rdisk,\n",
    "                                   gap_rin=gap_rin, gap_rout=gap_rout, gap_drfact='[1e-5]',\n",
    "                                   nz='0', binary=False, old=True)\n",
    "\n",
    "filelist = [\"problem_params.inp\", \"dustdens.inp\", \"dustopac.inp\", \"frequency.inp\", \"dustopac_1.inp\", \"radius.inp\", \"theta.inp\", \"starinfo.inp\", \"starspectrum.inp\"]\n",
    "for file in filelist:\n",
    "    os.system(\"mv \"+file+\" radmc_outputs/\")\n",
    "    \n",
    "os.system(\"mv dustopac_newformat.inp dustopac.inp\")"
   ]
  },
  {
   "cell_type": "code",
   "execution_count": null,
   "id": "56dfc9a1-466c-48a2-9860-d5d30937b170",
   "metadata": {},
   "outputs": [],
   "source": [
    "filelist = [\"run_radlite.ipynb\", \"model.json\", \"spectrum.json\", \"line.inp\", \"molecule_co.inp\"]\n",
    "for file in filelist:\n",
    "    os.system(\"mv \"+file+\" radmc_outputs/\")"
   ]
  },
  {
   "cell_type": "code",
   "execution_count": null,
   "id": "aa8d4356-895d-48bb-8607-1f7366954fe5",
   "metadata": {},
   "outputs": [],
   "source": []
  }
 ],
 "metadata": {
  "kernelspec": {
   "display_name": "Python 3 (ipykernel)",
   "language": "python",
   "name": "python3"
  },
  "language_info": {
   "codemirror_mode": {
    "name": "ipython",
    "version": 3
   },
   "file_extension": ".py",
   "mimetype": "text/x-python",
   "name": "python",
   "nbconvert_exporter": "python",
   "pygments_lexer": "ipython3",
   "version": "3.9.13"
  }
 },
 "nbformat": 4,
 "nbformat_minor": 5
}
