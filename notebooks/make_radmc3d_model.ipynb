{
 "cells": [
  {
   "cell_type": "markdown",
   "id": "b81d3cbb-29d1-44e4-ae43-d2115cc80900",
   "metadata": {},
   "source": [
    "### create a model to run through radlite"
   ]
  },
  {
   "cell_type": "code",
   "execution_count": 1,
   "id": "be319c2d-9efb-484b-9e06-fadec24b287c",
   "metadata": {},
   "outputs": [],
   "source": [
    "import os, subprocess\n",
    "import numpy as np\n",
    "import matplotlib.pyplot as plt\n",
    "from radmc3dPy import *\n",
    "%matplotlib inline"
   ]
  },
  {
   "cell_type": "code",
   "execution_count": 2,
   "id": "0387ee3f-972b-4047-8072-5a9b640dd99b",
   "metadata": {},
   "outputs": [],
   "source": [
    "# model parameters\n",
    "mstar = ['1.0*ms']        # stellar mass\n",
    "tstar = [4000.0]          # Teff (K)\n",
    "rstar = ['2.0*rs']        # stellar radius\n",
    "\n",
    "mdisk = '1e-4*ms'         # dust disk mass\n",
    "dusttogas = 0.01          # dust to gas ratio\n",
    "rin = '0.0*au'           # inner disk radius\n",
    "rdisk = '5*au'           # outer disk radius\n",
    "gap_rin='[0.3*au]'        # gap inner radius\n",
    "gap_rout='[0.6*au]'         # gap outer radius"
   ]
  },
  {
   "cell_type": "code",
   "execution_count": 3,
   "id": "3b20863f-f27e-48f9-8aa4-6844e62d55ee",
   "metadata": {},
   "outputs": [
    {
     "name": "stdout",
     "output_type": "stream",
     "text": [
      "Writing problem_params.inp\n",
      "Writing problem_params.inp\n",
      "Writing dustopac.inp\n",
      "Writing wavelength_micron.inp\n",
      "Writing amr_grid.inp\n",
      "Writing stars.inp\n",
      "-------------------------------------------------------------\n",
      "Luminosities of radiation sources in the model :\n",
      "Reading wavelength_micron.inp\n",
      "As calculated from the input files :\n",
      "Stars : \n",
      "  Star #0 + hotspot        : 3.564346e+33\n",
      "Continuous starlike source : 0.000000e+00\n",
      " \n",
      "-------------------------------------------------------------\n",
      "Writing dust_density.inp\n",
      "Writing radmc3d.inp\n"
     ]
    }
   ],
   "source": [
    "# set up the model and write out new style files for radmc\n",
    "# note you need to have dustkappa_silicate.inp in this directory\n",
    "# note that I have changed the boundary for the radial grid to cover more of the inner disk\n",
    "# (0.1 au is roughly the dust sublimation radius given the radius & temperature of the protostar)\n",
    "# increase the number of photons for the thermal dust calculation to ensure no zeros in Tdust\n",
    "analyze.writeDefaultParfile('ppdisk')\n",
    "model_new = setup.problemSetupDust(model='ppdisk', mstar=mstar, rstar=rstar, tstar=tstar,\n",
    "                                   mdisk=mdisk, dusttogas=dusttogas,\n",
    "                                   rin=rin, rdisk=rdisk,\n",
    "                                   xbound='[0.1*au, 1.0*au, 10.0*au]',\n",
    "                                   nx='[50,50]',\n",
    "                                   #xres_nlev=3, xres_nspan=3, xres_nstep=3,\n",
    "                                   nphot=1e6,\n",
    "                                   gap_rin=gap_rin, gap_rout=gap_rout, gap_drfact='[1e-8]',\n",
    "                                   nz='0', binary=False)"
   ]
  },
  {
   "cell_type": "code",
   "execution_count": 4,
   "id": "d4712b2d-7a3f-4388-844d-55b6dcd85459",
   "metadata": {},
   "outputs": [],
   "source": [
    "proc = subprocess.Popen([\"radmc3d mctherm\"], stdout=subprocess.PIPE, shell=True)\n",
    "out, err = proc.communicate()"
   ]
  },
  {
   "cell_type": "code",
   "execution_count": 5,
   "id": "e00c8fec-0854-430e-b074-fd6ff2e52022",
   "metadata": {},
   "outputs": [
    {
     "name": "stdout",
     "output_type": "stream",
     "text": [
      "Moving radmc files to output directory ./radmc_outputs\n",
      "Will overwrite existing files\n"
     ]
    }
   ],
   "source": [
    "# make a directory for the radmc outputs for radlite to use\n",
    "outputdir = \"./radmc_outputs\"\n",
    "print(f\"Moving radmc files to output directory {outputdir}\")\n",
    "if os.path.exists(outputdir):\n",
    "    print(\"Will overwrite existing files\")\n",
    "else:\n",
    "    print(\"Directory does not exist; will create\")\n",
    "    os.makedirs(outputdir)"
   ]
  },
  {
   "cell_type": "code",
   "execution_count": 6,
   "id": "2a72ea03-c4d7-4c05-8b5e-717605f163e8",
   "metadata": {},
   "outputs": [
    {
     "name": "stdout",
     "output_type": "stream",
     "text": [
      "Reading amr_grid.inp\n",
      "Reading wavelength_micron.inp\n",
      "Reading dust_density.inp\n",
      "Reading dust_temperature.dat\n",
      "Writing dusttemp_final.dat\n",
      "Writing dusttemp.info\n"
     ]
    },
    {
     "data": {
      "text/plain": [
       "0"
      ]
     },
     "execution_count": 6,
     "metadata": {},
     "output_type": "execute_result"
    }
   ],
   "source": [
    "# translate temperature array to old radmc format\n",
    "data = analyze.readData(ddens=True, dtemp=True)\n",
    "Tdust = data.dusttemp[:,:,0,0]\n",
    "if np.min(Tdust) == 0:\n",
    "    print(\"WARNING: temperature array has zeros -- increase nphot\")\n",
    "nr, nt = Tdust.shape\n",
    "fname = \"dusttemp_final.dat\"\n",
    "with open(fname, \"w\") as wfile:\n",
    "    print(\"Writing \" + fname)\n",
    "    wfile.write(f\"   1    {nr:d}   {nt//2:d}   1\\n\")\n",
    "    wfile.write(\" \\n\")\n",
    "    wfile.write(\"   1\\n\")\n",
    "    for i in range(nr):\n",
    "        for j in range(nt//2):\n",
    "            wfile.write(f\"{Tdust[i,j]:.7f}\\n\")\n",
    "os.system(\"mv \"+fname+\" radmc_outputs/\")\n",
    "            \n",
    "fname = \"dusttemp.info\"\n",
    "with open(fname, \"w\") as wfile:\n",
    "    print(\"Writing \" + fname)\n",
    "    wfile.write(\"  -2\\n\")\n",
    "    wfile.write(\"   1\\n\")\n",
    "    wfile.write(\"   1\\n\")\n",
    "    wfile.write(\"   1\\n\")\n",
    "    wfile.write(\"   1\\n\")\n",
    "os.system(\"mv \"+fname+\" radmc_outputs/\")"
   ]
  },
  {
   "cell_type": "code",
   "execution_count": 7,
   "id": "d4340ffb-c22d-4502-9ebe-3c94ce7dc1d7",
   "metadata": {},
   "outputs": [
    {
     "name": "stdout",
     "output_type": "stream",
     "text": [
      "Writing problem_params.inp\n",
      "Writing dustopac.inp\n",
      "Writing frequency.inp\n",
      "Reading dustkappa_silicate.inp\n",
      "Writing dustopac_1.inp\n",
      "Writing frequency.inp\n",
      "Writing radius.inp\n",
      "Writing theta.inp\n",
      "Writing starinfo.inp\n",
      "Writing starspectrum.inp\n"
     ]
    },
    {
     "data": {
      "text/plain": [
       "0"
      ]
     },
     "execution_count": 7,
     "metadata": {},
     "output_type": "execute_result"
    }
   ],
   "source": [
    "# write out the old format radmc files since radlite needs these\n",
    "# note that this overwrites the new format dustopac.inp so first save that and rename it back afterwards!\n",
    "os.system(\"mv dustopac.inp dustopac_newformat.inp\")\n",
    "\n",
    "model_old = setup.problemSetupDust(model='ppdisk', mstar=mstar, rstar=rstar, tstar=tstar,\n",
    "                                   mdisk=mdisk, dusttogas=dusttogas,\n",
    "                                   rin=rin, rdisk=rdisk,\n",
    "                                   gap_rin=gap_rin, gap_rout=gap_rout, gap_drfact='[1e-5]',\n",
    "                                   nz='0', binary=False, old=True)\n",
    "\n",
    "filelist = [\"problem_params.inp\", \"dustdens.inp\", \"dustopac.inp\", \"frequency.inp\", \"dustopac_1.inp\", \"radius.inp\", \"theta.inp\", \"starinfo.inp\", \"starspectrum.inp\"]\n",
    "for file in filelist:\n",
    "    os.system(\"mv \"+file+\" radmc_outputs/\")\n",
    "    \n",
    "os.system(\"mv dustopac_newformat.inp dustopac.inp\")"
   ]
  },
  {
   "cell_type": "code",
   "execution_count": 8,
   "id": "56dfc9a1-466c-48a2-9860-d5d30937b170",
   "metadata": {},
   "outputs": [
    {
     "name": "stderr",
     "output_type": "stream",
     "text": [
      "mv: rename run_radlite*.ipynb to radmc_outputs/run_radlite*.ipynb: No such file or directory\n",
      "mv: rename model*.json to radmc_outputs/model*.json: No such file or directory\n",
      "mv: spectrum.json: No such file or directory\n",
      "mv: line.inp: No such file or directory\n",
      "mv: molecule_co.inp: No such file or directory\n"
     ]
    }
   ],
   "source": [
    "filelist = [\"run_radlite*.ipynb\", \"model*.json\", \"spectrum.json\", \"line.inp\", \"molecule_co.inp\"]\n",
    "for file in filelist:\n",
    "    os.system(\"mv \"+file+\" radmc_outputs/\")"
   ]
  },
  {
   "cell_type": "code",
   "execution_count": null,
   "id": "618fb1bb-3c55-4db8-9584-552915e5312c",
   "metadata": {},
   "outputs": [],
   "source": []
  }
 ],
 "metadata": {
  "kernelspec": {
   "display_name": "Python 3 (ipykernel)",
   "language": "python",
   "name": "python3"
  },
  "language_info": {
   "codemirror_mode": {
    "name": "ipython",
    "version": 3
   },
   "file_extension": ".py",
   "mimetype": "text/x-python",
   "name": "python",
   "nbconvert_exporter": "python",
   "pygments_lexer": "ipython3",
   "version": "3.9.13"
  }
 },
 "nbformat": 4,
 "nbformat_minor": 5
}
