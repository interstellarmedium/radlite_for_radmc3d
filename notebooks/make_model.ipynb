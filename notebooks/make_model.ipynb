{
 "cells": [
  {
   "cell_type": "markdown",
   "id": "b81d3cbb-29d1-44e4-ae43-d2115cc80900",
   "metadata": {},
   "source": [
    "### create a model to run through radlite\n",
    "### model creates the (dust) temperature profile so no need to run radmc3d mctherm"
   ]
  },
  {
   "cell_type": "code",
   "execution_count": 1,
   "id": "be319c2d-9efb-484b-9e06-fadec24b287c",
   "metadata": {},
   "outputs": [
    {
     "name": "stdout",
     "output_type": "stream",
     "text": [
      "Fast (Fortran90) Mie-scattering module could not be imported. Falling back to the slower Python version.\n"
     ]
    }
   ],
   "source": [
    "import os, subprocess\n",
    "import numpy as np\n",
    "import matplotlib.pyplot as plt\n",
    "from radmc3dPy import *\n",
    "%matplotlib inline"
   ]
  },
  {
   "cell_type": "code",
   "execution_count": 2,
   "id": "0387ee3f-972b-4047-8072-5a9b640dd99b",
   "metadata": {},
   "outputs": [],
   "source": [
    "# model parameters\n",
    "mstar = ['1.0*ms']        # stellar mass\n",
    "tstar = [4000.0]          # Teff (K)\n",
    "rstar = ['2.0*rs']        # stellar radius\n",
    "\n",
    "mdisk = '1e-5*ms'         # dust disk mass\n",
    "dusttogas = 0.001         # dust to gas ratio\n",
    "rin = '0.1*au'            # inner disk radius\n",
    "rdisk = '5*au'            # outer disk radius\n",
    "gap_rin='[0.0*au]'        # gap inner radius\n",
    "gap_rout='[0.0*au]'       # gap outer radius\n",
    "Tmid = 100                # midplane temperature at 1 au\n",
    "Tatm = 350                # atmospheric temperature at 1 au"
   ]
  },
  {
   "cell_type": "code",
   "execution_count": 3,
   "id": "e4c63e53-8fb9-4438-9025-8086adfdd7fb",
   "metadata": {},
   "outputs": [],
   "source": [
    "keys = {'model':'ppdisk_jw', 'mstar':mstar, 'rstar':rstar, 'tstar':tstar,\n",
    "        'mdisk':mdisk, 'dusttogas':dusttogas,\n",
    "        'rin':rin, 'rdisk':rdisk,\n",
    "        'xbound':'[0.05*au, 0.5*au, 5.0*au]', 'nx':'[150, 150]', 'nphot':1e6,\n",
    "        'nz':'0', 'binary':False,\n",
    "        'Tmid':Tmid, 'Tatm':Tatm, 'writeDustTemp':True}"
   ]
  },
  {
   "cell_type": "code",
   "execution_count": 4,
   "id": "efb5ebac-27c4-41bd-8c5d-18eef5829e3d",
   "metadata": {},
   "outputs": [
    {
     "name": "stdout",
     "output_type": "stream",
     "text": [
      "Writing problem_params.inp\n"
     ]
    }
   ],
   "source": [
    "# setup problem_params.log with default parameters\n",
    "analyze.writeDefaultParfile('ppdisk_jw')"
   ]
  },
  {
   "cell_type": "code",
   "execution_count": 5,
   "id": "48047dce-384a-4dcb-ae72-f8ec87bdfa8f",
   "metadata": {},
   "outputs": [
    {
     "name": "stdout",
     "output_type": "stream",
     "text": [
      "Writing problem_params.inp\n",
      "Writing dustopac.inp\n",
      "Writing wavelength_micron.inp\n",
      "Writing amr_grid.inp\n",
      "Writing stars.inp\n",
      "-------------------------------------------------------------\n",
      "Luminosities of radiation sources in the model :\n",
      "Reading wavelength_micron.inp\n",
      "As calculated from the input files :\n",
      "Stars : \n",
      "  Star #0 + hotspot        : 3.564346e+33\n",
      "Continuous starlike source : 0.000000e+00\n",
      " \n",
      "-------------------------------------------------------------\n",
      "Writing dust_density.inp\n",
      "Writing dust_temperature.dat\n",
      "Writing radmc3d.inp\n"
     ]
    }
   ],
   "source": [
    "# update the parameters in problem_params.inp and write out files in new radmc3d format\n",
    "setup.problemSetupDust(**keys)"
   ]
  },
  {
   "cell_type": "code",
   "execution_count": 6,
   "id": "c1ef985f-8fbb-4d41-9057-fe9af3f183ef",
   "metadata": {},
   "outputs": [
    {
     "name": "stdout",
     "output_type": "stream",
     "text": [
      "Reading amr_grid.inp\n",
      "Reading wavelength_micron.inp\n",
      "Reading dust_temperature.dat\n",
      "Writing dusttemp_final.dat\n",
      "Writing dusttemp.info\n"
     ]
    }
   ],
   "source": [
    "# translate temperature array to old radmc format (settings keys to old does not do this unfortunately)\n",
    "data = analyze.readData(dtemp=True)\n",
    "Tdust = data.dusttemp[:,:,0,0]\n",
    "if np.min(Tdust) == 0:\n",
    "    print(\"WARNING: temperature array has zeros -- increase nphot\")\n",
    "nr, nt = Tdust.shape\n",
    "fname = \"dusttemp_final.dat\"\n",
    "with open(fname, \"w\") as wfile:\n",
    "    print(\"Writing \" + fname)\n",
    "    wfile.write(f\"   1    {nr:d}   {nt//2:d}   1\\n\")\n",
    "    wfile.write(\" \\n\")\n",
    "    wfile.write(\"   1\\n\")\n",
    "    for i in range(nr):\n",
    "        for j in range(nt//2):\n",
    "            wfile.write(f\"{Tdust[i,j]:.7f}\\n\")\n",
    "\n",
    "fname = \"dusttemp.info\"\n",
    "with open(fname, \"w\") as wfile:\n",
    "    print(\"Writing \" + fname)\n",
    "    wfile.write(\"  -2\\n\")\n",
    "    wfile.write(\"   1\\n\")\n",
    "    wfile.write(\"   1\\n\")\n",
    "    wfile.write(\"   1\\n\")\n",
    "    wfile.write(\"   1\\n\")"
   ]
  },
  {
   "cell_type": "code",
   "execution_count": 7,
   "id": "74b3c6e8-13d7-4ccf-94cc-c6e3e8258dc1",
   "metadata": {},
   "outputs": [
    {
     "name": "stdout",
     "output_type": "stream",
     "text": [
      "Moving radmc files to output directory ./radmc_outputs_new_format\n",
      "Directory does not exist; will create\n"
     ]
    }
   ],
   "source": [
    "# make a directory for the radmc new format outputs\n",
    "outputdir = \"./radmc\"\n",
    "print(f\"Moving radmc files to output directory {outputdir}\")\n",
    "if os.path.exists(outputdir):\n",
    "    print(\"Will overwrite existing files\")\n",
    "else:\n",
    "    print(\"Directory does not exist; will create\")\n",
    "    os.makedirs(outputdir)"
   ]
  },
  {
   "cell_type": "code",
   "execution_count": 8,
   "id": "34a45d35-7a02-4305-8216-3bd2a7cb5fb2",
   "metadata": {},
   "outputs": [],
   "source": [
    "filelist = [\"problem_params.inp\", \"dustopac.inp\", \"wavelength_micron.inp\", \"amr_grid.inp\", \"stars.inp\", \\\n",
    "            \"dust_density.inp\", \"dust_temperature.dat\", \"radmc3d.inp\", \\\n",
    "            \"plot_radmc3d_model.ipynb\"]\n",
    "for file in filelist:\n",
    "    os.system(\"mv \"+file+\" radmc/\")"
   ]
  },
  {
   "cell_type": "code",
   "execution_count": 9,
   "id": "0584110d-33d4-4e66-b133-7aca817293cc",
   "metadata": {},
   "outputs": [
    {
     "name": "stdout",
     "output_type": "stream",
     "text": [
      "Writing problem_params.inp\n",
      "Writing problem_params.inp\n",
      "Writing dustopac.inp\n",
      "Writing frequency.inp\n",
      "Reading dustkappa_silicate.inp\n",
      "Writing dustopac_1.inp\n",
      "Writing frequency.inp\n",
      "Writing radius.inp\n",
      "Writing theta.inp\n",
      "Writing starinfo.inp\n",
      "Writing starspectrum.inp\n",
      "Writing dust_temperature.dat\n",
      "Removing dust_temperature.dat\n"
     ]
    }
   ],
   "source": [
    "# create problem_params.inp, update parameters, and write out files for radlite)\n",
    "# (note that radlite uses the old format of radmc3d)\n",
    "analyze.writeDefaultParfile('ppdisk_jw')\n",
    "setup.problemSetupDust(**keys, old=True)\n",
    "\n",
    "# get rid of the new format dust temperature file which is not needed\n",
    "print('Removing dust_temperature.dat')\n",
    "os.remove('dust_temperature.dat')"
   ]
  },
  {
   "cell_type": "code",
   "execution_count": 10,
   "id": "18704345-e2ab-4eff-af65-1e9cf2bd7ab5",
   "metadata": {},
   "outputs": [
    {
     "name": "stdout",
     "output_type": "stream",
     "text": [
      "Moving radmc files to output directory ./radmc_outputs\n",
      "Directory does not exist; will create\n"
     ]
    }
   ],
   "source": [
    "# make a directory for the radmc outputs for radlite to use\n",
    "outputdir = \"./radlite\"\n",
    "print(f\"Moving radmc files to output directory {outputdir}\")\n",
    "if os.path.exists(outputdir):\n",
    "    print(\"Will overwrite existing files\")\n",
    "else:\n",
    "    print(\"Directory does not exist; will create\")\n",
    "    os.makedirs(outputdir)"
   ]
  },
  {
   "cell_type": "code",
   "execution_count": 11,
   "id": "01db3a6d-96be-45c4-8e97-605e11cdf6c4",
   "metadata": {},
   "outputs": [],
   "source": [
    "filelist = [\"problem_params.inp\", \"dustdens.inp\", \"dustopac.inp\", \"dusttemp_final.dat\", \"dusttemp.info\", \\\n",
    "            \"frequency.inp\", \"dustopac_1.inp\", \"radius.inp\", \"theta.inp\", \"starinfo.inp\", \"starspectrum.inp\", \"radmc.inp\"]\n",
    "for file in filelist:\n",
    "    os.system(\"mv \"+file+\" radlite/\")\n",
    "\n",
    "# can now move the new format file for the dust over\n",
    "os.system(\"mv dustkappa_silicate.inp radmc/\")"
   ]
  },
  {
   "cell_type": "code",
   "execution_count": 12,
   "id": "d2fbf42a-f983-4a82-a43d-a5a959c033de",
   "metadata": {},
   "outputs": [
    {
     "name": "stdout",
     "output_type": "stream",
     "text": [
      "mv run_radlite*.ipynb radmc_outputs/\n",
      "mv model*.json radmc_outputs/\n",
      "mv spectrum.json radmc_outputs/\n",
      "mv line.inp radmc_outputs/\n",
      "mv molecule_co.inp radmc_outputs/\n"
     ]
    }
   ],
   "source": [
    "# move files over to radmc_outputs for radlite to run\n",
    "# (I tried and failed to hide any errors that come up if you run this a second time and the files have already been moved...)\n",
    "filelist = [\"run_radlite*.ipynb\", \"model*.json\", \"spectrum.json\", \"line.inp\", \"molecule_co.inp\"]\n",
    "for file in filelist:\n",
    "    cmd = \"mv \"+file+\" radlite/\"\n",
    "    x = os.system(cmd + \"> /dev/null\")\n",
    "    if x==0:\n",
    "        print(cmd)"
   ]
  },
  {
   "cell_type": "code",
   "execution_count": null,
   "id": "ed2cc565-0b3b-44cf-9aac-bf7695b1c718",
   "metadata": {},
   "outputs": [],
   "source": []
  }
 ],
 "metadata": {
  "kernelspec": {
   "display_name": "Python 3 (ipykernel)",
   "language": "python",
   "name": "python3"
  },
  "language_info": {
   "codemirror_mode": {
    "name": "ipython",
    "version": 3
   },
   "file_extension": ".py",
   "mimetype": "text/x-python",
   "name": "python",
   "nbconvert_exporter": "python",
   "pygments_lexer": "ipython3",
   "version": "3.9.13"
  }
 },
 "nbformat": 4,
 "nbformat_minor": 5
}
