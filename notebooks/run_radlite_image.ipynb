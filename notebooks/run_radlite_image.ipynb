{
 "cells": [
  {
   "cell_type": "markdown",
   "metadata": {},
   "source": [
    "## Basic radlite run to create images using outputs from make_radmc3d_model.ipynb\n",
    "### 12/12/23 jpw"
   ]
  },
  {
   "cell_type": "code",
   "execution_count": 1,
   "metadata": {},
   "outputs": [],
   "source": [
    "import sys\n",
    "sys.path.append(\"/Users/jpw/G/py/radlite_for_radmc3d\")\n",
    "import numpy as np\n",
    "import matplotlib.pyplot as plt\n",
    "%matplotlib inline"
   ]
  },
  {
   "cell_type": "code",
   "execution_count": 2,
   "metadata": {},
   "outputs": [],
   "source": [
    "#Import Python-RADLite package\n",
    "import radlite as RDL"
   ]
  },
  {
   "cell_type": "code",
   "execution_count": 3,
   "metadata": {},
   "outputs": [],
   "source": [
    "infilename = \"model_image.json\"               # Input file with RADLite parameters\n",
    "hitranfilename = \"../../data_hitran.json\"     # Input file with HITRAN parameters\n",
    "radmcfilepath = \"./\""
   ]
  },
  {
   "cell_type": "code",
   "execution_count": 4,
   "metadata": {},
   "outputs": [
    {
     "name": "stdout",
     "output_type": "stream",
     "text": [
      "--------------------------------------------------\n",
      "Welcome to RADLite Version 1.3.0!\n",
      "\n",
      "RADLite Version 1.2 (in IDL) was written by:\n",
      "Klaus Pontoppidan (pontoppi@stsci.edu)\n",
      "Kees Dullemond\n",
      "Alex Lockwood\n",
      "Rowin Meijerink\n",
      "\n",
      "RADLite Version 1.3.0 (in Python) was written by:\n",
      "Jamila Pegues (jamila.pegues@cfa.harvard.edu)\n",
      "Klaus Pontoppidan (pontoppi@stsci.edu)\n",
      "--------------------------------------------------\n",
      "\n",
      "\n",
      "\n",
      "----------\n",
      "Now preparing all RADLite input files...\n",
      "\n",
      "Will prepare a circular-formatted image cube...\n",
      "\n",
      "Writing RADLite input files...\n",
      "\n",
      "Calculating abundance...\n",
      "Setting a constant abundance...\n",
      "Done calculating abundance!\n",
      "\n",
      "Calculating gas density from dust density...\n",
      "Done calculating gas density!\n",
      "\n",
      "Calculating gas temperature...\n",
      "Assuming gas temperature = dust temperature...\n",
      "Done calculating gas temperature!\n",
      "\n",
      "Calculating turbulence...\n",
      "Using first dust component temperature to determine turbulent velocities...\n",
      "Done calculating turbulence!\n",
      "\n",
      "Extracting stellar info from file ./starinfo.inp...\n",
      "Calculating velocity field components...\n",
      "Used starinfo.inp file for mstar and rstar...\n",
      "Done calculating velocity components!\n",
      "\n",
      "----------\n",
      "Assembling molecular line data...\n",
      "\n",
      "Extracting molecular lines from file /Users/jpw/G/py/radlite/HITRAN/CO.par...\n",
      "There are 4106 molecular lines in total.\n",
      "Removing molecular lines outside of specified criteria...\n",
      "Looks like 4 out of 4106 total lines will be kept...\n",
      "There are 4 molecular lines that fall within ALL specified criteria.\n",
      "Done extracting molecular data!\n",
      "\n",
      "(Function _read_hitran took 1.96e-02s.)\n",
      "Extracting partition function info from /Users/jpw/G/py/radlite/HITRAN/ParSum.dat...\n",
      "There are a total of 23 chemical species in /Users/jpw/G/py/radlite/HITRAN/ParSum.dat.\n",
      "Partition information for 12CO has been successfully extracted!\n",
      "\n",
      "Dividing up a total of 4 lines for 7 cores...\n",
      "Here are the chosen line intervals per core:\n",
      "['Core 0: Interval [0, 1]', 'Core 1: Interval [1, 2]', 'Core 2: Interval [2, 3]', 'Core 3: Interval [3, 4]', 'Core 4: Interval [4, 4]', 'Core 5: Interval [4, 4]', 'Core 6: Interval [4, 4]']\n",
      "----------\n",
      "Preparing molecular line data per core...\n",
      "\n",
      "Counting up unique levels for 0th core...\n",
      "Removing any duplicate levels...  To start, there are 2 levels.\n",
      "2 unique indices found, meaning 2 unique levels.\n",
      "Counting up unique levels for 3th core...\n",
      "Removing any duplicate levels...  To start, there are 2 levels.\n",
      "2 unique indices found, meaning 2 unique levels.\n",
      "Counting up unique levels for 4th core...\n",
      "Removing any duplicate levels...  To start, there are 0 levels.\n",
      "0 unique indices found, meaning 0 unique levels.\n",
      "Counting up unique levels for 2th core...\n",
      "Removing any duplicate levels...  To start, there are 2 levels.\n",
      "2 unique indices found, meaning 2 unique levels.\n",
      "Counting up unique levels for 1th core...\n",
      "Removing any duplicate levels...  To start, there are 2 levels.\n",
      "2 unique indices found, meaning 2 unique levels.\n",
      "Counting up unique levels for 6th core...\n",
      "Removing any duplicate levels...  To start, there are 0 levels.\n",
      "0 unique indices found, meaning 0 unique levels.\n",
      "Done preparing molecular line data per core!\n",
      "\n",
      "----------\n",
      "RADLite preparation is complete!\n",
      "You can now run RADLite using the run_radlite() method.\n",
      "--------------------\n",
      "\n",
      "(Function __init__ took 1.88e+00s.)\n"
     ]
    }
   ],
   "source": [
    "#Initialize an instance of the RadliteModel() class\n",
    "myMod = RDL.RadliteModel(infilename=infilename,\n",
    "                         hitranfilename=hitranfilename,\n",
    "                         radmcfilepath=radmcfilepath)"
   ]
  },
  {
   "cell_type": "markdown",
   "metadata": {},
   "source": [
    "## Running RADLite"
   ]
  },
  {
   "cell_type": "code",
   "execution_count": 5,
   "metadata": {},
   "outputs": [
    {
     "name": "stdout",
     "output_type": "stream",
     "text": [
      "Attempting to create run directory rundir_image...\n",
      "All input files and final data will be saved to the following folder in the current directory: rundir_image\n",
      "Running RADLite on 7 core(s)...\n",
      "Generating working directory for cores called: ./rundir_image/workingdir\n",
      "All core outputs will be stored in: ./rundir_image/outputdir\n",
      "Prepping 0th core...\n",
      "Starting 0th core in ./rundir_image/workingdir/workingdir_cpu0/...\n",
      "Prepping 1th core...\n",
      "Starting 1th core in ./rundir_image/workingdir/workingdir_cpu1/...\n",
      "Prepping 2th core...\n",
      "Starting 2th core in ./rundir_image/workingdir/workingdir_cpu2/...\n",
      "Prepping 3th core...\n",
      "Starting 3th core in ./rundir_image/workingdir/workingdir_cpu3/...\n",
      "Prepping 4th core...\n",
      "Starting 4th core in ./rundir_image/workingdir/workingdir_cpu4/...\n",
      "Prepping 5th core...\n",
      "4th core has started working...\n",
      "4th core does not have any lines to process.  Exiting...\n",
      "(Function _run_core took 3.19e-05s.)\n",
      "Starting 5th core in ./rundir_image/workingdir/workingdir_cpu5/...\n",
      "Prepping 6th core...\n",
      "5th core has started working...\n",
      "5th core does not have any lines to process.  Exiting...\n",
      "(Function _run_core took 1.10e-05s.)\n",
      "Starting 6th core in ./rundir_image/workingdir/workingdir_cpu6/...\n",
      "Done starting core(s)!6th core has started working...\n",
      "6th core does not have any lines to process.  Exiting...\n",
      "(Function _run_core took 3.00e-05s.)\n",
      "\n"
     ]
    },
    {
     "name": "stderr",
     "output_type": "stream",
     "text": [
      "mv: rename ./rundir_image/workingdir/workingdir_cpu0//linespectrum_moldata.dat to ./rundir_image/outputdir/linespectrum_moldata_0.dat: No such file or directory\n",
      "mv: rename ./rundir_image/workingdir/workingdir_cpu0//lineposvel_moldata.dat to ./rundir_image/outputdir/lineposvel_moldata_0.dat: No such file or directory\n"
     ]
    },
    {
     "name": "stdout",
     "output_type": "stream",
     "text": [
      "0th core has started working...\n",
      "(Function _write_core_levelpopinp took 1.35e-02s.)\n",
      "0th core has finished working!\n",
      "(Function _run_core took 1.65e+01s.)\n",
      "0th core finished and closed!\n"
     ]
    },
    {
     "name": "stderr",
     "output_type": "stream",
     "text": [
      "mv: rename ./rundir_image/workingdir/workingdir_cpu1//linespectrum_moldata.dat to ./rundir_image/outputdir/linespectrum_moldata_1.dat: No such file or directory\n",
      "mv: rename ./rundir_image/workingdir/workingdir_cpu1//lineposvel_moldata.dat to ./rundir_image/outputdir/lineposvel_moldata_1.dat: No such file or directory\n"
     ]
    },
    {
     "name": "stdout",
     "output_type": "stream",
     "text": [
      "1th core has started working...\n",
      "(Function _write_core_levelpopinp took 1.41e-02s.)\n",
      "1th core has finished working!\n",
      "(Function _run_core took 1.65e+01s.)\n",
      "1th core finished and closed!\n"
     ]
    },
    {
     "name": "stderr",
     "output_type": "stream",
     "text": [
      "mv: rename ./rundir_image/workingdir/workingdir_cpu2//linespectrum_moldata.dat to ./rundir_image/outputdir/linespectrum_moldata_2.dat: No such file or directory\n",
      "mv: rename ./rundir_image/workingdir/workingdir_cpu2//lineposvel_moldata.dat to ./rundir_image/outputdir/lineposvel_moldata_2.dat: No such file or directory\n"
     ]
    },
    {
     "name": "stdout",
     "output_type": "stream",
     "text": [
      "2th core has started working...\n",
      "(Function _write_core_levelpopinp took 2.97e-02s.)\n",
      "2th core has finished working!\n",
      "(Function _run_core took 1.64e+01s.)\n",
      "2th core finished and closed!\n",
      "3th core has started working...\n",
      "(Function _write_core_levelpopinp took 2.00e-02s.)\n",
      "3th core has finished working!\n",
      "(Function _run_core took 1.62e+01s.)\n",
      "3th core finished and closed!\n",
      "4th core finished and closed!\n",
      "5th core finished and closed!\n",
      "6th core finished and closed!\n",
      "All core(s) have finished!\n",
      "Deleting working directory used for cores...\n",
      "Done running run_radlite()!\n",
      "(Function run_radlite took 2.19e+01s.)\n"
     ]
    },
    {
     "name": "stderr",
     "output_type": "stream",
     "text": [
      "mv: rename ./rundir_image/workingdir/workingdir_cpu3//linespectrum_moldata.dat to ./rundir_image/outputdir/linespectrum_moldata_3.dat: No such file or directory\n",
      "mv: rename ./rundir_image/workingdir/workingdir_cpu3//lineposvel_moldata.dat to ./rundir_image/outputdir/lineposvel_moldata_3.dat: No such file or directory\n"
     ]
    }
   ],
   "source": [
    "#Run RADLite\n",
    "myMod.run_radlite()"
   ]
  },
  {
   "cell_type": "code",
   "execution_count": null,
   "metadata": {},
   "outputs": [],
   "source": []
  }
 ],
 "metadata": {
  "kernelspec": {
   "display_name": "Python 3 (ipykernel)",
   "language": "python",
   "name": "python3"
  },
  "language_info": {
   "codemirror_mode": {
    "name": "ipython",
    "version": 3
   },
   "file_extension": ".py",
   "mimetype": "text/x-python",
   "name": "python",
   "nbconvert_exporter": "python",
   "pygments_lexer": "ipython3",
   "version": "3.9.13"
  }
 },
 "nbformat": 4,
 "nbformat_minor": 4
}
